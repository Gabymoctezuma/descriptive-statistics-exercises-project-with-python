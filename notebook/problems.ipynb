{
 "cells": [
  {
   "cell_type": "markdown",
   "id": "ac622319",
   "metadata": {},
   "source": [
    "# Descriptive statistics problems"
   ]
  },
  {
   "cell_type": "markdown",
   "id": "5e0ab0d5",
   "metadata": {},
   "source": [
    "### Exercise 1\n",
    "\n",
    "We will use NumPy to obtain information to describe statistically.\n",
    "\n",
    "- Generate an array of 100 elements following a normal distribution.\n",
    "- Generate an array of 100 elements following a chi-square distribution with 3 degrees of freedom.\n",
    "- Calculate the main metrics and statistical measures that best describe the two vectors."
   ]
  },
  {
   "cell_type": "code",
   "execution_count": 18,
   "id": "34720ab6",
   "metadata": {},
   "outputs": [
    {
     "name": "stdout",
     "output_type": "stream",
     "text": [
      "NORMAL DISTRIBUTION\n",
      "Mean:-0.011383725764869911\n",
      "Median:-0.0867862016786526\n",
      "Mode:-0.7439035110112228\n",
      "Range:4.9969107428473185\n",
      "Variance:0.9977264310441627\n",
      "Std:0.99886256864704\n",
      "Skewness:0.14309634909297583\n",
      "Kurtosis:-0.2759520589702964\n",
      "\n",
      "\n",
      "CHI-SQUARE DISTRIBUTION\n",
      "Mean:2.9305888928128523\n",
      "Median:2.283276814737227\n",
      "Mode:-0.7439035110112228\n",
      "Range:10.405835626904896\n",
      "Variance:4.970458244397947\n",
      "Std:2.2294524539442295\n",
      "Skewness:1.2209680371152756\n",
      "Kurtosis:1.215263711732728\n"
     ]
    }
   ],
   "source": [
    "# TODO\n",
    "from scipy.stats import norm\n",
    "from scipy.stats import skew\n",
    "from scipy.stats import kurtosis\n",
    "import numpy as np\n",
    "import statistics as stats\n",
    "\n",
    "\n",
    "mean=0\n",
    "std=1\n",
    "data_normal=np.random.normal(loc=mean, scale=std, size=100)\n",
    "\n",
    "Mean_normal=stats.mean(data_normal)\n",
    "Median_normal=stats.median(data_normal)\n",
    "Mode_normal=stats.mode(data_normal)\n",
    "range_normal=max(data_normal)-min(data_normal)\n",
    "Variance_normal= stats.variance(data_normal)\n",
    "std= stats.stdev(data_normal)\n",
    "skewness=skew(data_normal)\n",
    "kurt= kurtosis(data_normal)\n",
    "\n",
    "print(f\"NORMAL DISTRIBUTION\")\n",
    "print(f\"Mean:{Mean_normal}\\nMedian:{Median_normal}\\nMode:{Mode_normal}\\nRange:{range_normal}\\nVariance:{Variance_normal}\\nStd:{std}\\nSkewness:{skewness}\\nKurtosis:{kurt}\")\n",
    "\n",
    "# generate chi square\n",
    "\n",
    "data_chi2=np.random.chisquare(df=3, size=100)\n",
    "\n",
    "Mean_chi2=stats.mean(data_chi2)\n",
    "Median_chi2=stats.median(data_chi2)\n",
    "Mode_chi2=stats.mode(data_normal)\n",
    "range_chi2=max(data_chi2)-min(data_chi2)\n",
    "Variance_chi2= stats.variance(data_chi2)\n",
    "std_chi2= stats.stdev(data_chi2)\n",
    "skewness_chi2=skew(data_chi2)\n",
    "kurt_chi2= kurtosis(data_chi2)\n",
    "print()\n",
    "print()\n",
    "print(f\"CHI-SQUARE DISTRIBUTION\")\n",
    "print(f\"Mean:{Mean_chi2}\\nMedian:{Median_chi2}\\nMode:{Mode_chi2}\\nRange:{range_chi2}\\nVariance:{Variance_chi2}\\nStd:{std_chi2}\\nSkewness:{skewness_chi2}\\nKurtosis:{kurt_chi2}\")\n"
   ]
  },
  {
   "cell_type": "markdown",
   "id": "6fd59dbf",
   "metadata": {},
   "source": [
    "DESCRIPTION"
   ]
  },
  {
   "cell_type": "code",
   "execution_count": null,
   "id": "bb2e4a6a",
   "metadata": {},
   "outputs": [],
   "source": []
  },
  {
   "cell_type": "markdown",
   "id": "46c70c3d",
   "metadata": {},
   "source": [
    "### Exercise 2\n",
    "\n",
    "Write a Python program to calculate the standard deviation of the following data:\n",
    "\n",
    "```py\n",
    "data = [4, 2, 5, 8, 6]\n",
    "```"
   ]
  },
  {
   "cell_type": "code",
   "execution_count": 2,
   "id": "d590308e",
   "metadata": {},
   "outputs": [],
   "source": [
    "# TODO"
   ]
  }
 ],
 "metadata": {
  "kernelspec": {
   "display_name": "Python 3",
   "language": "python",
   "name": "python3"
  },
  "language_info": {
   "codemirror_mode": {
    "name": "ipython",
    "version": 3
   },
   "file_extension": ".py",
   "mimetype": "text/x-python",
   "name": "python",
   "nbconvert_exporter": "python",
   "pygments_lexer": "ipython3",
   "version": "3.11.4"
  }
 },
 "nbformat": 4,
 "nbformat_minor": 5
}
