{
 "cells": [
  {
   "cell_type": "markdown",
   "id": "ac622319",
   "metadata": {},
   "source": [
    "# Descriptive statistics problems"
   ]
  },
  {
   "cell_type": "markdown",
   "id": "5e0ab0d5",
   "metadata": {},
   "source": [
    "### Exercise 1\n",
    "\n",
    "We will use NumPy to obtain information to describe statistically.\n",
    "\n",
    "- Generate an array of 100 elements following a normal distribution.\n",
    "- Generate an array of 100 elements following a chi-square distribution with 3 degrees of freedom.\n",
    "- Calculate the main metrics and statistical measures that best describe the two vectors."
   ]
  },
  {
   "cell_type": "code",
   "execution_count": null,
   "id": "34720ab6",
   "metadata": {},
   "outputs": [
    {
     "name": "stdout",
     "output_type": "stream",
     "text": [
      "NORMAL DISTRIBUTION\n",
      "Mean:0.08929633105955632\n",
      "Median:-0.036390265222287936\n",
      "Mode:0.6618737179556899\n",
      "Range:4.135981087675859\n",
      "Variance:0.7135750808349267\n",
      "Std:0.8447337336906386\n",
      "Skewness:0.2627992849905819\n",
      "Kurtosis:-0.18889667563985935\n",
      "\n",
      "\n",
      "CHI-SQUARE DISTRIBUTION\n",
      "Mean:2.922236289337911\n",
      "Median:2.2429249131300733\n",
      "Mode:0.5962732164266978\n",
      "Range:10.194877336103202\n",
      "Variance:5.128678541786747\n",
      "Std:2.264658592765529\n",
      "Skewness:1.1717336367635995\n",
      "Kurtosis:0.893636478210976\n"
     ]
    }
   ],
   "source": [
    "# TODO\n",
    "\n",
    "import statistics as stats\n",
    "import numpy as np\n",
    "\n",
    "\n",
    "\n",
    "mean=0\n",
    "std=1\n",
    "data_normal=np.random.normal(loc=mean, scale=std, size=100)\n",
    "\n",
    "Mean_normal=stats.mean(data_normal)\n",
    "Median_normal=stats.median(data_normal)\n",
    "Mode_normal=stats.mode(data_normal)\n",
    "range_normal=max(data_normal)-min(data_normal)\n",
    "Variance_normal= stats.variance(data_normal)\n",
    "std_normal= stats.stdev(data_normal)\n",
    "skewness=skew(data_normal)\n",
    "kurt= kurtosis(data_normal)\n",
    "\n",
    "print(f\"NORMAL DISTRIBUTION\")\n",
    "print(f\"Mean:{Mean_normal}\\nMedian:{Median_normal}\\nMode:{Mode_normal}\\nRange:{range_normal}\\nVariance:{Variance_normal}\\nStd:{std_normal}\\nSkewness:{skewness}\\nKurtosis:{kurt}\")\n",
    "\n",
    "# generate chi square\n",
    "\n",
    "data_chi2=np.random.chisquare(df=3, size=100)\n",
    "\n",
    "Mean_chi2=stats.mean(data_chi2)\n",
    "Median_chi2=stats.median(data_chi2)\n",
    "Mode_chi2=stats.mode(data_chi2)\n",
    "range_chi2=max(data_chi2)-min(data_chi2)\n",
    "Variance_chi2= stats.variance(data_chi2)\n",
    "std_chi2= stats.stdev(data_chi2)\n",
    "skewness_chi2=skew(data_chi2)\n",
    "kurt_chi2= kurtosis(data_chi2)\n",
    "print()\n",
    "print()\n",
    "print(f\"CHI-SQUARE DISTRIBUTION\")\n",
    "print(f\"Mean:{Mean_chi2}\\nMedian:{Median_chi2}\\nMode:{Mode_chi2}\\nRange:{range_chi2}\\nVariance:{Variance_chi2}\\nStd:{std_chi2}\\nSkewness:{skewness_chi2}\\nKurtosis:{kurt_chi2}\")\n"
   ]
  },
  {
   "cell_type": "markdown",
   "id": "6fd59dbf",
   "metadata": {},
   "source": [
    "DESCRIPTION"
   ]
  },
  {
   "cell_type": "code",
   "execution_count": null,
   "id": "bb2e4a6a",
   "metadata": {},
   "outputs": [],
   "source": [
    "- NORMAL DISTRIBUTION \n",
    "The mean is close to zero, which is common in a normal distribution.\n",
    "The median is close to zero, that is, it has symmetry.\n",
    "The variance and standard deviation are close to one, this is common in this distribution.\n",
    "\n",
    "-CHI SQUARE DISTRIBUTION\n",
    "The mean is superior tha the median which is common in a chi square distribution\n",
    "The variance and standard deviation indicate a high degree of dispersion"
   ]
  },
  {
   "cell_type": "markdown",
   "id": "46c70c3d",
   "metadata": {},
   "source": [
    "### Exercise 2\n",
    "\n",
    "Write a Python program to calculate the standard deviation of the following data:\n",
    "\n",
    "```py\n",
    "data = [4, 2, 5, 8, 6]\n",
    "```"
   ]
  },
  {
   "cell_type": "code",
   "execution_count": 34,
   "id": "d590308e",
   "metadata": {},
   "outputs": [
    {
     "name": "stdout",
     "output_type": "stream",
     "text": [
      "2.23606797749979\n"
     ]
    }
   ],
   "source": [
    "# TODO\n",
    "import math\n",
    "import statistics as stats\n",
    "data=[4,2,5,8,6]\n",
    "\n",
    "\n",
    "\n",
    "def std_data(data):\n",
    "    mean=sum(data)/len(data)\n",
    "    squared_dif=[(x-mean)**2 for x in data]\n",
    "    variance=sum(squared_dif)/(len(data)-1)\n",
    "    standard_deviation=math.sqrt(variance)\n",
    "    return standard_deviation\n",
    "result=std_data(data)\n",
    "\n",
    "\n",
    "\n",
    "print(result)"
   ]
  }
 ],
 "metadata": {
  "kernelspec": {
   "display_name": "Python 3",
   "language": "python",
   "name": "python3"
  },
  "language_info": {
   "codemirror_mode": {
    "name": "ipython",
    "version": 3
   },
   "file_extension": ".py",
   "mimetype": "text/x-python",
   "name": "python",
   "nbconvert_exporter": "python",
   "pygments_lexer": "ipython3",
   "version": "3.11.4"
  }
 },
 "nbformat": 4,
 "nbformat_minor": 5
}
